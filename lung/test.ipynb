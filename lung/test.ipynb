{
 "cells": [
  {
   "cell_type": "code",
   "execution_count": 15,
   "id": "f793b426",
   "metadata": {},
   "outputs": [],
   "source": [
    "# ! pip install pandas numpy scipy matplotlib seaborn scikit-learn mygene"
   ]
  },
  {
   "cell_type": "code",
   "execution_count": 16,
   "id": "4d6aa6d7",
   "metadata": {},
   "outputs": [
    {
     "name": "stdout",
     "output_type": "stream",
     "text": [
      "              Gene  T-statistic       P-value\n",
      "26336  217046_s_at   -20.023918  9.296289e-40\n",
      "25211  215918_s_at   -20.015457  9.662377e-40\n",
      "11972  202524_s_at   -18.973455  1.204164e-37\n",
      "37794    228540_at   -18.342796  2.387803e-36\n",
      "39723    230469_at   -18.326222  2.584557e-36\n",
      "48899    239650_at   -18.020563  1.120214e-35\n",
      "3845    1557729_at   -17.851949  2.528399e-35\n",
      "15654    206208_at   -17.714688  4.918132e-35\n",
      "15655  206209_s_at   -17.377253  2.549939e-34\n",
      "27056    217771_at    17.266428  4.391610e-34\n"
     ]
    }
   ],
   "source": [
    "import pandas as pd\n",
    "from scipy.stats import ttest_ind\n",
    "\n",
    "# Load the data\n",
    "df = pd.read_csv('GSE19804_series_matrix.txt', sep=\"\\t\", comment='!', index_col=0)\n",
    "\n",
    "df = df.transpose()\n",
    "\n",
    "# OPTIONAL: drop any columns not gene probes\n",
    "# For example, keep only float columns (gene expression)\n",
    "df = df.select_dtypes(include='float64')\n",
    "\n",
    "# Step 1: Assign sample labels (first 60 = tumor, next 60 = normal)\n",
    "labels = ['Tumor'] * 60 + ['Normal'] * 60\n",
    "df['label'] = labels\n",
    "\n",
    "# Step 2: Split data\n",
    "tumor = df[df['label'] == 'Tumor'].drop(columns=['label'])\n",
    "normal = df[df['label'] == 'Normal'].drop(columns=['label'])\n",
    "\n",
    "# Step 3: Perform t-test for each gene\n",
    "results = []\n",
    "for gene in tumor.columns:\n",
    "    stat, p = ttest_ind(tumor[gene], normal[gene])\n",
    "    results.append((gene, stat, p))\n",
    "\n",
    "# Step 4: Convert to DataFrame and sort by p-value\n",
    "result_df = pd.DataFrame(results, columns=['Gene', 'T-statistic', 'P-value'])\n",
    "result_df = result_df.sort_values('P-value')\n",
    "\n",
    "# Show top 10 differentially expressed genes\n",
    "print(result_df.head(10))\n"
   ]
  },
  {
   "cell_type": "code",
   "execution_count": 17,
   "id": "e73c715e",
   "metadata": {},
   "outputs": [
    {
     "name": "stderr",
     "output_type": "stream",
     "text": [
      "Input sequence provided is already in string format. No operation performed\n",
      "Input sequence provided is already in string format. No operation performed\n",
      "1861 input query terms found dup hits:\t[('205200_at', 2), ('222738_at', 2), ('227452_at', 2), ('223531_x_at', 2), ('224448_s_at', 2), ('225\n",
      "11130 input query terms found no hit:\t['237390_at', '236383_at', '235642_at', '1557094_at', '243172_at', '242340_at', '238151_at', '238891\n"
     ]
    },
    {
     "name": "stdout",
     "output_type": "stream",
     "text": [
      "              Gene GeneSymbol       P-value\n",
      "26336  217046_s_at       AGER  9.296289e-40\n",
      "25211  215918_s_at     SPTBN1  9.662377e-40\n",
      "11972  202524_s_at     SPOCK2  1.204164e-37\n",
      "37794    228540_at        QKI  2.387803e-36\n",
      "39723    230469_at      RTKN2  2.584557e-36\n"
     ]
    }
   ],
   "source": [
    "import pandas as pd\n",
    "import mygene\n",
    "\n",
    "mg = mygene.MyGeneInfo()\n",
    "\n",
    "# Convert probe list\n",
    "probes = result_df['Gene'].tolist()\n",
    "annotations = mg.querymany(probes, scopes='reporter', fields='symbol', species='human')\n",
    "\n",
    "# Turn into DataFrame\n",
    "annot_df = pd.DataFrame(annotations)\n",
    "\n",
    "# Remove rows with no symbol\n",
    "annot_df = annot_df[annot_df['symbol'].notna()]\n",
    "\n",
    "# Map gene symbols back to your result_df\n",
    "probe_to_symbol = dict(zip(annot_df['query'], annot_df['symbol']))\n",
    "result_df['GeneSymbol'] = result_df['Gene'].map(probe_to_symbol)\n",
    "\n",
    "# Drop rows with no gene symbol\n",
    "result_df = result_df.dropna(subset=['GeneSymbol'])\n",
    "\n",
    "print(result_df[['Gene', 'GeneSymbol', 'P-value']].head())\n"
   ]
  },
  {
   "cell_type": "code",
   "execution_count": null,
   "id": "d1e4d235",
   "metadata": {},
   "outputs": [
    {
     "ename": "ValueError",
     "evalue": "Key backend: 'module://matplotlib_inline.backend_inline' is not a valid value for backend; supported values are ['gtk3agg', 'gtk3cairo', 'gtk4agg', 'gtk4cairo', 'macosx', 'nbagg', 'notebook', 'qtagg', 'qtcairo', 'qt5agg', 'qt5cairo', 'tkagg', 'tkcairo', 'webagg', 'wx', 'wxagg', 'wxcairo', 'agg', 'cairo', 'pdf', 'pgf', 'ps', 'svg', 'template']",
     "output_type": "error",
     "traceback": [
      "\u001b[0;31m---------------------------------------------------------------------------\u001b[0m",
      "\u001b[0;31mValueError\u001b[0m                                Traceback (most recent call last)",
      "Cell \u001b[0;32mIn[23], line 1\u001b[0m\n\u001b[0;32m----> 1\u001b[0m \u001b[38;5;28;01mimport\u001b[39;00m\u001b[38;5;250m \u001b[39m\u001b[38;5;21;01mmatplotlib\u001b[39;00m\n\u001b[1;32m      2\u001b[0m matplotlib\u001b[38;5;241m.\u001b[39muse(\u001b[38;5;124m'\u001b[39m\u001b[38;5;124mAgg\u001b[39m\u001b[38;5;124m'\u001b[39m) \n\u001b[1;32m      3\u001b[0m \u001b[38;5;28;01mimport\u001b[39;00m\u001b[38;5;250m \u001b[39m\u001b[38;5;21;01mmatplotlib\u001b[39;00m\u001b[38;5;21;01m.\u001b[39;00m\u001b[38;5;21;01mpyplot\u001b[39;00m\u001b[38;5;250m \u001b[39m\u001b[38;5;28;01mas\u001b[39;00m\u001b[38;5;250m \u001b[39m\u001b[38;5;21;01mplt\u001b[39;00m\n",
      "File \u001b[0;32m~/hackmini/-Gene-Expression-Explorer/venv/lib/python3.10/site-packages/matplotlib/__init__.py:1296\u001b[0m\n\u001b[1;32m   1292\u001b[0m     rcParams[\u001b[38;5;124m'\u001b[39m\u001b[38;5;124mbackend_fallback\u001b[39m\u001b[38;5;124m'\u001b[39m] \u001b[38;5;241m=\u001b[39m \u001b[38;5;28;01mFalse\u001b[39;00m\n\u001b[1;32m   1295\u001b[0m \u001b[38;5;28;01mif\u001b[39;00m os\u001b[38;5;241m.\u001b[39menviron\u001b[38;5;241m.\u001b[39mget(\u001b[38;5;124m'\u001b[39m\u001b[38;5;124mMPLBACKEND\u001b[39m\u001b[38;5;124m'\u001b[39m):\n\u001b[0;32m-> 1296\u001b[0m     \u001b[43mrcParams\u001b[49m\u001b[43m[\u001b[49m\u001b[38;5;124;43m'\u001b[39;49m\u001b[38;5;124;43mbackend\u001b[39;49m\u001b[38;5;124;43m'\u001b[39;49m\u001b[43m]\u001b[49m \u001b[38;5;241m=\u001b[39m os\u001b[38;5;241m.\u001b[39menviron\u001b[38;5;241m.\u001b[39mget(\u001b[38;5;124m'\u001b[39m\u001b[38;5;124mMPLBACKEND\u001b[39m\u001b[38;5;124m'\u001b[39m)\n\u001b[1;32m   1299\u001b[0m \u001b[38;5;28;01mdef\u001b[39;00m\u001b[38;5;250m \u001b[39m\u001b[38;5;21mget_backend\u001b[39m(\u001b[38;5;241m*\u001b[39m, auto_select\u001b[38;5;241m=\u001b[39m\u001b[38;5;28;01mTrue\u001b[39;00m):\n\u001b[1;32m   1300\u001b[0m \u001b[38;5;250m    \u001b[39m\u001b[38;5;124;03m\"\"\"\u001b[39;00m\n\u001b[1;32m   1301\u001b[0m \u001b[38;5;124;03m    Return the name of the current backend.\u001b[39;00m\n\u001b[1;32m   1302\u001b[0m \n\u001b[0;32m   (...)\u001b[0m\n\u001b[1;32m   1320\u001b[0m \u001b[38;5;124;03m    matplotlib.use\u001b[39;00m\n\u001b[1;32m   1321\u001b[0m \u001b[38;5;124;03m    \"\"\"\u001b[39;00m\n",
      "File \u001b[0;32m~/hackmini/-Gene-Expression-Explorer/venv/lib/python3.10/site-packages/matplotlib/__init__.py:771\u001b[0m, in \u001b[0;36mRcParams.__setitem__\u001b[0;34m(self, key, val)\u001b[0m\n\u001b[1;32m    769\u001b[0m         cval \u001b[38;5;241m=\u001b[39m \u001b[38;5;28mself\u001b[39m\u001b[38;5;241m.\u001b[39mvalidate[key](val)\n\u001b[1;32m    770\u001b[0m     \u001b[38;5;28;01mexcept\u001b[39;00m \u001b[38;5;167;01mValueError\u001b[39;00m \u001b[38;5;28;01mas\u001b[39;00m ve:\n\u001b[0;32m--> 771\u001b[0m         \u001b[38;5;28;01mraise\u001b[39;00m \u001b[38;5;167;01mValueError\u001b[39;00m(\u001b[38;5;124mf\u001b[39m\u001b[38;5;124m\"\u001b[39m\u001b[38;5;124mKey \u001b[39m\u001b[38;5;132;01m{\u001b[39;00mkey\u001b[38;5;132;01m}\u001b[39;00m\u001b[38;5;124m: \u001b[39m\u001b[38;5;132;01m{\u001b[39;00mve\u001b[38;5;132;01m}\u001b[39;00m\u001b[38;5;124m\"\u001b[39m) \u001b[38;5;28;01mfrom\u001b[39;00m\u001b[38;5;250m \u001b[39m\u001b[38;5;28;01mNone\u001b[39;00m\n\u001b[1;32m    772\u001b[0m     \u001b[38;5;28mself\u001b[39m\u001b[38;5;241m.\u001b[39m_set(key, cval)\n\u001b[1;32m    773\u001b[0m \u001b[38;5;28;01mexcept\u001b[39;00m \u001b[38;5;167;01mKeyError\u001b[39;00m \u001b[38;5;28;01mas\u001b[39;00m err:\n",
      "\u001b[0;31mValueError\u001b[0m: Key backend: 'module://matplotlib_inline.backend_inline' is not a valid value for backend; supported values are ['gtk3agg', 'gtk3cairo', 'gtk4agg', 'gtk4cairo', 'macosx', 'nbagg', 'notebook', 'qtagg', 'qtcairo', 'qt5agg', 'qt5cairo', 'tkagg', 'tkcairo', 'webagg', 'wx', 'wxagg', 'wxcairo', 'agg', 'cairo', 'pdf', 'pgf', 'ps', 'svg', 'template']"
     ]
    }
   ],
   "source": [
    "\n",
    "import matplotlib.pyplot as plt\n",
    "import numpy as np\n",
    "\n",
    "\n",
    "plt.figure(figsize=(10, 6))\n",
    "plt.scatter(result_df['T-statistic'], result_df['P-value'],\n",
    "            c=(result_df['P-value'] < 0.05), cmap='coolwarm', alpha=0.7)\n",
    "plt.xlabel('T-statistic')\n",
    "plt.ylabel('-log10(p-value)')\n",
    "plt.title('Volcano Plot of Differential Gene Expression')\n",
    "plt.axhline(-np.log10(0.05), color='gray', linestyle='--')\n",
    "plt.show()"
   ]
  },
  {
   "cell_type": "code",
   "execution_count": null,
   "id": "ae48523a",
   "metadata": {},
   "outputs": [
    {
     "data": {
      "text/plain": [
       "(120, 25709)"
      ]
     },
     "execution_count": 5,
     "metadata": {},
     "output_type": "execute_result"
    }
   ],
   "source": [
    "# Only keep genes with p-value < 0.05\n",
    "significant_genes = result_df[result_df['P-value'] < 0.05]\n",
    "\n",
    "df2 = df[significant_genes[\"Gene\"].values]\n",
    "df2.shape"
   ]
  },
  {
   "cell_type": "code",
   "execution_count": null,
   "id": "3f103a9c",
   "metadata": {},
   "outputs": [
    {
     "data": {
      "text/html": [
       "<div>\n",
       "<style scoped>\n",
       "    .dataframe tbody tr th:only-of-type {\n",
       "        vertical-align: middle;\n",
       "    }\n",
       "\n",
       "    .dataframe tbody tr th {\n",
       "        vertical-align: top;\n",
       "    }\n",
       "\n",
       "    .dataframe thead th {\n",
       "        text-align: right;\n",
       "    }\n",
       "</style>\n",
       "<table border=\"1\" class=\"dataframe\">\n",
       "  <thead>\n",
       "    <tr style=\"text-align: right;\">\n",
       "      <th>ID_REF</th>\n",
       "      <th>217046_s_at</th>\n",
       "      <th>215918_s_at</th>\n",
       "      <th>202524_s_at</th>\n",
       "      <th>228540_at</th>\n",
       "      <th>230469_at</th>\n",
       "      <th>239650_at</th>\n",
       "      <th>1557729_at</th>\n",
       "      <th>206208_at</th>\n",
       "      <th>206209_s_at</th>\n",
       "      <th>217771_at</th>\n",
       "      <th>...</th>\n",
       "      <th>208327_at</th>\n",
       "      <th>230724_s_at</th>\n",
       "      <th>227795_at</th>\n",
       "      <th>1557309_at</th>\n",
       "      <th>220258_s_at</th>\n",
       "      <th>1562409_s_at</th>\n",
       "      <th>228752_at</th>\n",
       "      <th>1563298_at</th>\n",
       "      <th>1569097_at</th>\n",
       "      <th>206917_at</th>\n",
       "    </tr>\n",
       "  </thead>\n",
       "  <tbody>\n",
       "    <tr>\n",
       "      <th>GSM494556</th>\n",
       "      <td>7.68281</td>\n",
       "      <td>6.53858</td>\n",
       "      <td>8.60144</td>\n",
       "      <td>6.83675</td>\n",
       "      <td>4.19828</td>\n",
       "      <td>4.11814</td>\n",
       "      <td>6.27737</td>\n",
       "      <td>6.89603</td>\n",
       "      <td>6.21657</td>\n",
       "      <td>12.11280</td>\n",
       "      <td>...</td>\n",
       "      <td>6.50076</td>\n",
       "      <td>5.40516</td>\n",
       "      <td>6.68314</td>\n",
       "      <td>3.81622</td>\n",
       "      <td>7.10997</td>\n",
       "      <td>6.83689</td>\n",
       "      <td>8.16486</td>\n",
       "      <td>4.37974</td>\n",
       "      <td>4.37751</td>\n",
       "      <td>4.98437</td>\n",
       "    </tr>\n",
       "    <tr>\n",
       "      <th>GSM494557</th>\n",
       "      <td>7.31990</td>\n",
       "      <td>5.98864</td>\n",
       "      <td>8.44409</td>\n",
       "      <td>6.78380</td>\n",
       "      <td>3.97290</td>\n",
       "      <td>3.40786</td>\n",
       "      <td>5.38056</td>\n",
       "      <td>6.84327</td>\n",
       "      <td>6.95000</td>\n",
       "      <td>8.75553</td>\n",
       "      <td>...</td>\n",
       "      <td>6.34675</td>\n",
       "      <td>5.76333</td>\n",
       "      <td>6.97842</td>\n",
       "      <td>4.05884</td>\n",
       "      <td>7.30112</td>\n",
       "      <td>7.41290</td>\n",
       "      <td>6.48879</td>\n",
       "      <td>4.18676</td>\n",
       "      <td>4.53679</td>\n",
       "      <td>4.60314</td>\n",
       "    </tr>\n",
       "    <tr>\n",
       "      <th>GSM494558</th>\n",
       "      <td>7.17118</td>\n",
       "      <td>6.16938</td>\n",
       "      <td>9.89768</td>\n",
       "      <td>7.10125</td>\n",
       "      <td>4.20079</td>\n",
       "      <td>4.56416</td>\n",
       "      <td>6.78433</td>\n",
       "      <td>8.58719</td>\n",
       "      <td>8.86094</td>\n",
       "      <td>9.15013</td>\n",
       "      <td>...</td>\n",
       "      <td>6.43341</td>\n",
       "      <td>5.41595</td>\n",
       "      <td>7.08009</td>\n",
       "      <td>3.98211</td>\n",
       "      <td>7.06380</td>\n",
       "      <td>7.23086</td>\n",
       "      <td>7.32753</td>\n",
       "      <td>4.45175</td>\n",
       "      <td>4.36626</td>\n",
       "      <td>5.16514</td>\n",
       "    </tr>\n",
       "    <tr>\n",
       "      <th>GSM494559</th>\n",
       "      <td>6.76456</td>\n",
       "      <td>5.97161</td>\n",
       "      <td>7.96763</td>\n",
       "      <td>6.72710</td>\n",
       "      <td>3.74731</td>\n",
       "      <td>3.96403</td>\n",
       "      <td>6.37980</td>\n",
       "      <td>6.91088</td>\n",
       "      <td>5.84398</td>\n",
       "      <td>9.42616</td>\n",
       "      <td>...</td>\n",
       "      <td>6.30243</td>\n",
       "      <td>6.91349</td>\n",
       "      <td>6.47317</td>\n",
       "      <td>3.83431</td>\n",
       "      <td>7.21660</td>\n",
       "      <td>6.98912</td>\n",
       "      <td>6.83328</td>\n",
       "      <td>3.84752</td>\n",
       "      <td>4.23350</td>\n",
       "      <td>4.50363</td>\n",
       "    </tr>\n",
       "    <tr>\n",
       "      <th>GSM494560</th>\n",
       "      <td>7.28154</td>\n",
       "      <td>5.51378</td>\n",
       "      <td>7.50781</td>\n",
       "      <td>7.11012</td>\n",
       "      <td>3.94579</td>\n",
       "      <td>4.82867</td>\n",
       "      <td>5.99469</td>\n",
       "      <td>6.45942</td>\n",
       "      <td>5.11954</td>\n",
       "      <td>10.93700</td>\n",
       "      <td>...</td>\n",
       "      <td>5.69766</td>\n",
       "      <td>6.05344</td>\n",
       "      <td>6.38801</td>\n",
       "      <td>3.92579</td>\n",
       "      <td>7.25245</td>\n",
       "      <td>6.75474</td>\n",
       "      <td>6.61974</td>\n",
       "      <td>4.11094</td>\n",
       "      <td>4.44954</td>\n",
       "      <td>4.56833</td>\n",
       "    </tr>\n",
       "  </tbody>\n",
       "</table>\n",
       "<p>5 rows × 25709 columns</p>\n",
       "</div>"
      ],
      "text/plain": [
       "ID_REF     217046_s_at  215918_s_at  202524_s_at  228540_at  230469_at  \\\n",
       "GSM494556      7.68281      6.53858      8.60144    6.83675    4.19828   \n",
       "GSM494557      7.31990      5.98864      8.44409    6.78380    3.97290   \n",
       "GSM494558      7.17118      6.16938      9.89768    7.10125    4.20079   \n",
       "GSM494559      6.76456      5.97161      7.96763    6.72710    3.74731   \n",
       "GSM494560      7.28154      5.51378      7.50781    7.11012    3.94579   \n",
       "\n",
       "ID_REF     239650_at  1557729_at  206208_at  206209_s_at  217771_at  ...  \\\n",
       "GSM494556    4.11814     6.27737    6.89603      6.21657   12.11280  ...   \n",
       "GSM494557    3.40786     5.38056    6.84327      6.95000    8.75553  ...   \n",
       "GSM494558    4.56416     6.78433    8.58719      8.86094    9.15013  ...   \n",
       "GSM494559    3.96403     6.37980    6.91088      5.84398    9.42616  ...   \n",
       "GSM494560    4.82867     5.99469    6.45942      5.11954   10.93700  ...   \n",
       "\n",
       "ID_REF     208327_at  230724_s_at  227795_at  1557309_at  220258_s_at  \\\n",
       "GSM494556    6.50076      5.40516    6.68314     3.81622      7.10997   \n",
       "GSM494557    6.34675      5.76333    6.97842     4.05884      7.30112   \n",
       "GSM494558    6.43341      5.41595    7.08009     3.98211      7.06380   \n",
       "GSM494559    6.30243      6.91349    6.47317     3.83431      7.21660   \n",
       "GSM494560    5.69766      6.05344    6.38801     3.92579      7.25245   \n",
       "\n",
       "ID_REF     1562409_s_at  228752_at  1563298_at  1569097_at  206917_at  \n",
       "GSM494556       6.83689    8.16486     4.37974     4.37751    4.98437  \n",
       "GSM494557       7.41290    6.48879     4.18676     4.53679    4.60314  \n",
       "GSM494558       7.23086    7.32753     4.45175     4.36626    5.16514  \n",
       "GSM494559       6.98912    6.83328     3.84752     4.23350    4.50363  \n",
       "GSM494560       6.75474    6.61974     4.11094     4.44954    4.56833  \n",
       "\n",
       "[5 rows x 25709 columns]"
      ]
     },
     "execution_count": 6,
     "metadata": {},
     "output_type": "execute_result"
    }
   ],
   "source": [
    "df2.head()"
   ]
  },
  {
   "cell_type": "code",
   "execution_count": null,
   "id": "29bdb1db",
   "metadata": {},
   "outputs": [
    {
     "name": "stdout",
     "output_type": "stream",
     "text": [
      "Accuracy: 0.8333333333333334\n"
     ]
    }
   ],
   "source": [
    "from sklearn.ensemble import RandomForestClassifier\n",
    "from sklearn.model_selection import train_test_split\n",
    "from sklearn.metrics import accuracy_score\n",
    "\n",
    "# Use top 50 genes\n",
    "top_genes = result_df['Gene'].head(50)\n",
    "X = df[top_genes]\n",
    "y = df['label']\n",
    "\n",
    "# Train/test split\n",
    "X_train, X_test, y_train, y_test = train_test_split(X, y, stratify=y, test_size=0.2, random_state=42)\n",
    "\n",
    "clf = RandomForestClassifier()\n",
    "clf.fit(X_train, y_train)\n",
    "pred = clf.predict(X_test)\n",
    "\n",
    "print(\"Accuracy:\", accuracy_score(y_test, pred))\n"
   ]
  },
  {
   "cell_type": "code",
   "execution_count": 19,
   "id": "63f098e5",
   "metadata": {},
   "outputs": [
    {
     "name": "stdout",
     "output_type": "stream",
     "text": [
      "Requirement already satisfied: matplotlib-inline in /home/karthikssalian/hackmini/-Gene-Expression-Explorer/venv/lib/python3.10/site-packages (0.1.7)\n",
      "Requirement already satisfied: traitlets in /home/karthikssalian/hackmini/-Gene-Expression-Explorer/venv/lib/python3.10/site-packages (from matplotlib-inline) (5.14.3)\n",
      "Note: you may need to restart the kernel to use updated packages.\n"
     ]
    }
   ],
   "source": [
    "pip install matplotlib-inline"
   ]
  },
  {
   "cell_type": "code",
   "execution_count": null,
   "id": "a32f6974",
   "metadata": {},
   "outputs": [],
   "source": []
  }
 ],
 "metadata": {
  "kernelspec": {
   "display_name": "venv",
   "language": "python",
   "name": "python3"
  },
  "language_info": {
   "codemirror_mode": {
    "name": "ipython",
    "version": 3
   },
   "file_extension": ".py",
   "mimetype": "text/x-python",
   "name": "python",
   "nbconvert_exporter": "python",
   "pygments_lexer": "ipython3",
   "version": "3.10.12"
  }
 },
 "nbformat": 4,
 "nbformat_minor": 5
}
